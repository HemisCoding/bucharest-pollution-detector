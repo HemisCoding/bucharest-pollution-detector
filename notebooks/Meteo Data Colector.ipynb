{
 "cells": [
  {
   "cell_type": "code",
   "execution_count": 4,
   "id": "f04cce38-1f5a-4803-a552-3de99d8928c8",
   "metadata": {},
   "outputs": [
    {
     "name": "stdout",
     "output_type": "stream",
     "text": [
      "Requirement already satisfied: meteostat in /Users/alinhemeci/anaconda3/lib/python3.10/site-packages (1.6.8)\n",
      "Requirement already satisfied: pandas>=1.1 in /Users/alinhemeci/anaconda3/lib/python3.10/site-packages (from meteostat) (1.5.3)\n",
      "Requirement already satisfied: pytz in /Users/alinhemeci/anaconda3/lib/python3.10/site-packages (from meteostat) (2022.7)\n",
      "Requirement already satisfied: numpy in /Users/alinhemeci/anaconda3/lib/python3.10/site-packages (from meteostat) (1.25.2)\n",
      "Requirement already satisfied: python-dateutil>=2.8.1 in /Users/alinhemeci/anaconda3/lib/python3.10/site-packages (from pandas>=1.1->meteostat) (2.8.2)\n",
      "Requirement already satisfied: six>=1.5 in /Users/alinhemeci/anaconda3/lib/python3.10/site-packages (from python-dateutil>=2.8.1->pandas>=1.1->meteostat) (1.16.0)\n",
      "Note: you may need to restart the kernel to use updated packages.\n"
     ]
    }
   ],
   "source": [
    "pip install meteostat\n"
   ]
  },
  {
   "cell_type": "code",
   "execution_count": 3,
   "id": "ea6ce2ae-5ac7-4c3e-95fe-35f314ced626",
   "metadata": {},
   "outputs": [
    {
     "name": "stdout",
     "output_type": "stream",
     "text": [
      "✅ Weather dataset salvat cu 8759 rânduri.\n"
     ]
    },
    {
     "data": {
      "text/html": [
       "<div>\n",
       "<style scoped>\n",
       "    .dataframe tbody tr th:only-of-type {\n",
       "        vertical-align: middle;\n",
       "    }\n",
       "\n",
       "    .dataframe tbody tr th {\n",
       "        vertical-align: top;\n",
       "    }\n",
       "\n",
       "    .dataframe thead th {\n",
       "        text-align: right;\n",
       "    }\n",
       "</style>\n",
       "<table border=\"1\" class=\"dataframe\">\n",
       "  <thead>\n",
       "    <tr style=\"text-align: right;\">\n",
       "      <th></th>\n",
       "      <th>start</th>\n",
       "      <th>temperature</th>\n",
       "      <th>humidity</th>\n",
       "      <th>wind_speed</th>\n",
       "      <th>pressure</th>\n",
       "    </tr>\n",
       "  </thead>\n",
       "  <tbody>\n",
       "    <tr>\n",
       "      <th>0</th>\n",
       "      <td>2022-01-01 00:00:00</td>\n",
       "      <td>3.8</td>\n",
       "      <td>99.0</td>\n",
       "      <td>3.6</td>\n",
       "      <td>1017.7</td>\n",
       "    </tr>\n",
       "    <tr>\n",
       "      <th>1</th>\n",
       "      <td>2022-01-01 01:00:00</td>\n",
       "      <td>3.9</td>\n",
       "      <td>99.0</td>\n",
       "      <td>7.2</td>\n",
       "      <td>1017.2</td>\n",
       "    </tr>\n",
       "    <tr>\n",
       "      <th>2</th>\n",
       "      <td>2022-01-01 02:00:00</td>\n",
       "      <td>3.8</td>\n",
       "      <td>100.0</td>\n",
       "      <td>7.2</td>\n",
       "      <td>1017.0</td>\n",
       "    </tr>\n",
       "    <tr>\n",
       "      <th>3</th>\n",
       "      <td>2022-01-01 03:00:00</td>\n",
       "      <td>3.9</td>\n",
       "      <td>99.0</td>\n",
       "      <td>7.2</td>\n",
       "      <td>1016.7</td>\n",
       "    </tr>\n",
       "    <tr>\n",
       "      <th>4</th>\n",
       "      <td>2022-01-01 04:00:00</td>\n",
       "      <td>3.7</td>\n",
       "      <td>98.0</td>\n",
       "      <td>7.2</td>\n",
       "      <td>1016.2</td>\n",
       "    </tr>\n",
       "  </tbody>\n",
       "</table>\n",
       "</div>"
      ],
      "text/plain": [
       "                start  temperature  humidity  wind_speed  pressure\n",
       "0 2022-01-01 00:00:00          3.8      99.0         3.6    1017.7\n",
       "1 2022-01-01 01:00:00          3.9      99.0         7.2    1017.2\n",
       "2 2022-01-01 02:00:00          3.8     100.0         7.2    1017.0\n",
       "3 2022-01-01 03:00:00          3.9      99.0         7.2    1016.7\n",
       "4 2022-01-01 04:00:00          3.7      98.0         7.2    1016.2"
      ]
     },
     "execution_count": 3,
     "metadata": {},
     "output_type": "execute_result"
    }
   ],
   "source": [
    "from meteostat import Hourly, Stations\n",
    "from datetime import datetime\n",
    "import pandas as pd\n",
    "\n",
    "# 1. Cautăm o stație apropiată din București (e.g. Otopeni)\n",
    "stations = Stations()\n",
    "stations = stations.nearby(44.444925, 26.127289)  # coordonate București\n",
    "station = stations.fetch(1)\n",
    "\n",
    "# 2. Setăm perioada\n",
    "start = datetime(2022, 1, 1)\n",
    "end = datetime(2022, 12, 31, 23, 59)\n",
    "\n",
    "# 3. Luăm datele orare\n",
    "data = Hourly(station, start, end)\n",
    "df_weather = data.fetch()\n",
    "\n",
    "# 4. Păstrăm doar coloanele necesare\n",
    "df_weather = df_weather[[\"temp\", \"rhum\", \"wspd\", \"pres\"]]  # temperatură, umiditate, vânt, presiune\n",
    "df_weather.reset_index(inplace=True)\n",
    "df_weather.rename(columns={\n",
    "    \"time\": \"start\",\n",
    "    \"temp\": \"temperature\",\n",
    "    \"rhum\": \"humidity\",\n",
    "    \"wspd\": \"wind_speed\",\n",
    "    \"pres\": \"pressure\"\n",
    "}, inplace=True)\n",
    "\n",
    "# 5. Salvăm CSV\n",
    "df_weather.to_csv(\"../data/meteo_data_2022/weather_bucharest_2022_ro070a.csv\", index=False)\n",
    "\n",
    "print(f\"✅ Weather dataset salvat cu {len(df_weather)} rânduri.\")\n",
    "df_weather.head()\n"
   ]
  },
  {
   "cell_type": "code",
   "execution_count": 12,
   "id": "dc2ad106-6d26-459e-b6cc-aef46603b13f",
   "metadata": {},
   "outputs": [
    {
     "name": "stdout",
     "output_type": "stream",
     "text": [
      "                   start  temperature  humidity  wind_speed  pressure\n",
      "5000 2022-07-28 09:00:00         26.8      56.0         3.6    1014.8\n",
      "5001 2022-07-28 10:00:00         26.8      57.0         3.6    1015.1\n",
      "5002 2022-07-28 11:00:00         31.6      44.0         7.2    1014.8\n",
      "5003 2022-07-28 12:00:00         30.3      45.0         7.2    1014.7\n",
      "5004 2022-07-28 13:00:00         31.4      45.0         7.2    1014.5\n",
      "5005 2022-07-28 14:00:00         32.2      42.0         7.2    1013.8\n",
      "5006 2022-07-28 15:00:00         30.6      46.0         7.2    1013.9\n",
      "5007 2022-07-28 16:00:00         30.5      46.0         7.2    1013.8\n",
      "5008 2022-07-28 17:00:00         28.1      52.0         3.6    1014.4\n",
      "5009 2022-07-28 18:00:00         25.9      60.0         3.6    1015.3\n",
      "5010 2022-07-28 19:00:00         25.6      61.0         3.6    1016.0\n",
      "5011 2022-07-28 20:00:00         23.3      74.0         3.6    1016.3\n",
      "5012 2022-07-28 21:00:00         22.0      82.0         3.6    1016.3\n",
      "5013 2022-07-28 22:00:00         22.4      77.0         3.6    1016.7\n",
      "5014 2022-07-28 23:00:00         22.7      73.0         3.6    1017.0\n",
      "5015 2022-07-29 00:00:00         22.5      73.0         3.6    1017.1\n",
      "5016 2022-07-29 01:00:00         21.6      76.0         3.6    1016.8\n",
      "5017 2022-07-29 02:00:00         20.9      80.0         3.6    1016.9\n",
      "5018 2022-07-29 03:00:00         21.7      77.0         3.6    1016.7\n",
      "5019 2022-07-29 04:00:00         21.3      78.0         3.6    1016.9\n",
      "5020 2022-07-29 05:00:00         22.0      76.0         3.6    1017.2\n"
     ]
    }
   ],
   "source": [
    "print(df_weather.loc[5000:5020])"
   ]
  },
  {
   "cell_type": "code",
   "execution_count": 23,
   "id": "7b652372-35f5-468e-92e4-59ad09314128",
   "metadata": {},
   "outputs": [
    {
     "ename": "NameError",
     "evalue": "name 'df_merged' is not defined",
     "output_type": "error",
     "traceback": [
      "\u001b[0;31m---------------------------------------------------------------------------\u001b[0m",
      "\u001b[0;31mNameError\u001b[0m                                 Traceback (most recent call last)",
      "Cell \u001b[0;32mIn[23], line 5\u001b[0m\n\u001b[1;32m      2\u001b[0m df_weather \u001b[38;5;241m=\u001b[39m pd\u001b[38;5;241m.\u001b[39mread_csv(\u001b[38;5;124m\"\u001b[39m\u001b[38;5;124mdata/meteo_data_2022/weather_bucharest_2022.csv\u001b[39m\u001b[38;5;124m\"\u001b[39m)\n\u001b[1;32m      4\u001b[0m \u001b[38;5;66;03m# 9. Asigură-te că 'start' este datetime în ambele\u001b[39;00m\n\u001b[0;32m----> 5\u001b[0m df_merged[\u001b[38;5;124m\"\u001b[39m\u001b[38;5;124mstart\u001b[39m\u001b[38;5;124m\"\u001b[39m] \u001b[38;5;241m=\u001b[39m pd\u001b[38;5;241m.\u001b[39mto_datetime(\u001b[43mdf_merged\u001b[49m[\u001b[38;5;124m\"\u001b[39m\u001b[38;5;124mstart\u001b[39m\u001b[38;5;124m\"\u001b[39m])\n\u001b[1;32m      6\u001b[0m df_weather[\u001b[38;5;124m\"\u001b[39m\u001b[38;5;124mstart\u001b[39m\u001b[38;5;124m\"\u001b[39m] \u001b[38;5;241m=\u001b[39m pd\u001b[38;5;241m.\u001b[39mto_datetime(df_weather[\u001b[38;5;124m\"\u001b[39m\u001b[38;5;124mstart\u001b[39m\u001b[38;5;124m\"\u001b[39m])\n\u001b[1;32m      8\u001b[0m \u001b[38;5;66;03m# 10. Facem merge pe coloana 'start'\u001b[39;00m\n",
      "\u001b[0;31mNameError\u001b[0m: name 'df_merged' is not defined"
     ]
    }
   ],
   "source": [
    "# 8. Încarcă datele meteo\n",
    "df_weather = pd.read_csv(\"data/meteo_data_2022/weather_bucharest_2022_70a.csv\")\n",
    "\n",
    "# 9. Asigură-te că 'start' este datetime în ambele\n",
    "df_merged[\"start\"] = pd.to_datetime(df_merged[\"start\"])\n",
    "df_weather[\"start\"] = pd.to_datetime(df_weather[\"start\"])\n",
    "\n",
    "# 10. Facem merge pe coloana 'start'\n",
    "df_final = pd.merge(df_merged, df_weather, on=\"start\", how=\"inner\")\n",
    "\n",
    "# 11. Salvăm dataset-ul final\n",
    "df_final.to_csv(\"data/bucharest_final_dataset_2022_70a.csv\", index=False)\n",
    "\n",
    "print(f\"✅ Final dataset combinat: {len(df_final)} rânduri.\")\n",
    "df_final.head()\n"
   ]
  },
  {
   "cell_type": "code",
   "execution_count": null,
   "id": "a424ef5a-32a8-4eed-9ecc-e3529b686488",
   "metadata": {},
   "outputs": [],
   "source": [
    "\n"
   ]
  },
  {
   "cell_type": "code",
   "execution_count": null,
   "id": "084c415e-bc4b-42ce-94c1-219f9ad2bdcd",
   "metadata": {},
   "outputs": [],
   "source": []
  }
 ],
 "metadata": {
  "kernelspec": {
   "display_name": "Python (pollution-ml)",
   "language": "python",
   "name": "pollution-ml"
  },
  "language_info": {
   "codemirror_mode": {
    "name": "ipython",
    "version": 3
   },
   "file_extension": ".py",
   "mimetype": "text/x-python",
   "name": "python",
   "nbconvert_exporter": "python",
   "pygments_lexer": "ipython3",
   "version": "3.10.12"
  }
 },
 "nbformat": 4,
 "nbformat_minor": 5
}
