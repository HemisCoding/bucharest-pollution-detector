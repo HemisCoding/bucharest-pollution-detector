{
 "cells": [
  {
   "cell_type": "code",
   "execution_count": null,
   "id": "3a71a2ce-f27a-432b-8b11-ab2a6031353f",
   "metadata": {},
   "outputs": [],
   "source": []
  }
 ],
 "metadata": {
  "kernelspec": {
   "display_name": "Python (pollution-ml)",
   "language": "python",
   "name": "pollution-ml"
  },
  "language_info": {
   "codemirror_mode": {
    "name": "ipython",
    "version": 3
   },
   "file_extension": ".py",
   "mimetype": "text/x-python",
   "name": "python",
   "nbconvert_exporter": "python",
   "pygments_lexer": "ipython3",
   "version": "3.10.12"
  }
 },
 "nbformat": 4,
 "nbformat_minor": 5
}
